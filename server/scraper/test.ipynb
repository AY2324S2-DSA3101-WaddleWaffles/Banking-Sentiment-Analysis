{
 "cells": [
  {
   "cell_type": "code",
   "execution_count": 1,
   "metadata": {},
   "outputs": [],
   "source": [
    "from playstore_scraper import PlayStoreScraper\n",
    "import pandas as pd\n",
    "\n",
    "scraper = PlayStoreScraper({\"gxs\":\"sg.com.gxs.app\",\"dbs\":\"com.dbs.sg.dbsmbanking\",\"ocbc\":\"com.ocbc.mobile\",\"uob\":\"com.uob.mighty.app\",\"trust\":\"sg.trust\",\"maribank\":\"sg.com.maribankmobile.digitalbank\"})"
   ]
  },
  {
   "cell_type": "code",
   "execution_count": 2,
   "metadata": {},
   "outputs": [
    {
     "name": "stderr",
     "output_type": "stream",
     "text": [
      "2024-04-11 03:57:57,551 [INFO] Base - Initialised: AppStore('sg', 'gxs-bank', 1632183616)\n",
      "2024-04-11 03:57:57,552 [INFO] Base - Ready to fetch reviews from: https://apps.apple.com/sg/app/gxs-bank/id1632183616\n",
      "2024-04-11 03:57:57,770 [INFO] Base - [id:1632183616] Fetched 5 reviews (5 fetched in total)\n",
      "2024-04-11 03:57:57,827 [INFO] Base - Initialised: AppStore('sg', 'dbs-digibank', 1068403826)\n",
      "2024-04-11 03:57:57,828 [INFO] Base - Ready to fetch reviews from: https://apps.apple.com/sg/app/dbs-digibank/id1068403826\n",
      "2024-04-11 03:58:02,858 [INFO] Base - [id:1068403826] Fetched 27 reviews (27 fetched in total)\n",
      "2024-04-11 03:58:03,469 [INFO] Base - [id:1068403826] Fetched 28 reviews (28 fetched in total)\n",
      "2024-04-11 03:58:03,529 [INFO] Base - Initialised: AppStore('sg', 'ocbc-digital-mobile-banking', 292506828)\n",
      "2024-04-11 03:58:03,529 [INFO] Base - Ready to fetch reviews from: https://apps.apple.com/sg/app/ocbc-digital-mobile-banking/id292506828\n",
      "2024-04-11 03:58:23,525 [ERROR] Base - Something went wrong: HTTPSConnectionPool(host='amp-api.apps.apple.com', port=443): Max retries exceeded with url: /v1/catalog/sg/apps/292506828/reviews?l=en-GB&offset=500&limit=20&platform=web&additionalPlatforms=appletv%2Cipad%2Ciphone%2Cmac (Caused by ResponseError('too many 429 error responses'))\n",
      "2024-04-11 03:58:23,529 [INFO] Base - [id:292506828] Fetched 11 reviews (11 fetched in total)\n",
      "2024-04-11 03:58:23,624 [INFO] Base - Initialised: AppStore('sg', 'uob-tmrw', 1049286296)\n",
      "2024-04-11 03:58:23,625 [INFO] Base - Ready to fetch reviews from: https://apps.apple.com/sg/app/uob-tmrw/id1049286296\n",
      "2024-04-11 03:58:43,275 [ERROR] Base - Something went wrong: HTTPSConnectionPool(host='amp-api.apps.apple.com', port=443): Max retries exceeded with url: /v1/catalog/sg/apps/1049286296/reviews?l=en-GB&offset=320&limit=20&platform=web&additionalPlatforms=appletv%2Cipad%2Ciphone%2Cmac (Caused by ResponseError('too many 429 error responses'))\n",
      "2024-04-11 03:58:43,281 [INFO] Base - [id:1049286296] Fetched 10 reviews (10 fetched in total)\n",
      "2024-04-11 03:58:43,380 [INFO] Base - Initialised: AppStore('sg', 'trust-bank-sg', 1598460384)\n",
      "2024-04-11 03:58:43,380 [INFO] Base - Ready to fetch reviews from: https://apps.apple.com/sg/app/trust-bank-sg/id1598460384\n",
      "2024-04-11 03:59:02,465 [ERROR] Base - Something went wrong: HTTPSConnectionPool(host='amp-api.apps.apple.com', port=443): Max retries exceeded with url: /v1/catalog/sg/apps/1598460384/reviews?l=en-GB&offset=0&limit=20&platform=web&additionalPlatforms=appletv%2Cipad%2Ciphone%2Cmac (Caused by ResponseError('too many 429 error responses'))\n",
      "2024-04-11 03:59:02,467 [INFO] Base - [id:1598460384] Fetched 0 reviews (0 fetched in total)\n",
      "2024-04-11 03:59:02,551 [INFO] Base - Initialised: AppStore('sg', 'maribank', 1658919834)\n",
      "2024-04-11 03:59:02,551 [INFO] Base - Ready to fetch reviews from: https://apps.apple.com/sg/app/maribank/id1658919834\n",
      "2024-04-11 03:59:21,658 [ERROR] Base - Something went wrong: HTTPSConnectionPool(host='amp-api.apps.apple.com', port=443): Max retries exceeded with url: /v1/catalog/sg/apps/1658919834/reviews?l=en-GB&offset=0&limit=20&platform=web&additionalPlatforms=appletv%2Cipad%2Ciphone%2Cmac (Caused by ResponseError('too many 429 error responses'))\n",
      "2024-04-11 03:59:21,665 [INFO] Base - [id:1658919834] Fetched 0 reviews (0 fetched in total)\n"
     ]
    }
   ],
   "source": [
    "df, datetime_of_scrape = scraper.scrape_banks(pd.to_datetime(\"2024-03-04 04:52:33\"))"
   ]
  }
 ],
 "metadata": {
  "kernelspec": {
   "display_name": "venv",
   "language": "python",
   "name": "python3"
  },
  "language_info": {
   "codemirror_mode": {
    "name": "ipython",
    "version": 3
   },
   "file_extension": ".py",
   "mimetype": "text/x-python",
   "name": "python",
   "nbconvert_exporter": "python",
   "pygments_lexer": "ipython3",
   "version": "3.9.13"
  }
 },
 "nbformat": 4,
 "nbformat_minor": 2
}
