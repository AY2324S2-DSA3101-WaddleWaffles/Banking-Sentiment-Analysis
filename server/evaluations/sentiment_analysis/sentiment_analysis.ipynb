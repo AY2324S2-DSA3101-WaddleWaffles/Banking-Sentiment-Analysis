{
 "cells": [
  {
   "cell_type": "markdown",
   "metadata": {},
   "source": [
    "# Sentiment Analysis\n",
    "\n",
    "Techniques used \n",
    "1. Text Blob\n",
    "2. VADER (Valence Aware Dictionary and sEntiment Reasoner)\n",
    "3. Transformer-based Models \n",
    "    - Aift \n",
    "    - roBERTa\n",
    "    - BERTweet"
   ]
  },
  {
   "cell_type": "code",
   "execution_count": 1,
   "metadata": {},
   "outputs": [],
   "source": [
    "import pandas as pd  \n",
    "import numpy as np\n",
    "import nltk\n",
    "import matplotlib.pyplot as plt"
   ]
  },
  {
   "cell_type": "code",
   "execution_count": 2,
   "metadata": {},
   "outputs": [
    {
     "name": "stderr",
     "output_type": "stream",
     "text": [
      "[nltk_data] Downloading package vader_lexicon to\n",
      "[nltk_data]     C:\\Users\\jenni\\AppData\\Roaming\\nltk_data...\n",
      "[nltk_data]   Package vader_lexicon is already up-to-date!\n"
     ]
    },
    {
     "data": {
      "text/plain": [
       "True"
      ]
     },
     "execution_count": 2,
     "metadata": {},
     "output_type": "execute_result"
    }
   ],
   "source": [
    "nltk.download('vader_lexicon')"
   ]
  },
  {
   "cell_type": "code",
   "execution_count": 3,
   "metadata": {},
   "outputs": [
    {
     "data": {
      "text/html": [
       "<div>\n",
       "<style scoped>\n",
       "    .dataframe tbody tr th:only-of-type {\n",
       "        vertical-align: middle;\n",
       "    }\n",
       "\n",
       "    .dataframe tbody tr th {\n",
       "        vertical-align: top;\n",
       "    }\n",
       "\n",
       "    .dataframe thead th {\n",
       "        text-align: right;\n",
       "    }\n",
       "</style>\n",
       "<table border=\"1\" class=\"dataframe\">\n",
       "  <thead>\n",
       "    <tr style=\"text-align: right;\">\n",
       "      <th></th>\n",
       "      <th>Review</th>\n",
       "      <th>Label</th>\n",
       "    </tr>\n",
       "  </thead>\n",
       "  <tbody>\n",
       "    <tr>\n",
       "      <th>0</th>\n",
       "      <td>app does not refresh balance after you do a fa...</td>\n",
       "      <td>-1</td>\n",
       "    </tr>\n",
       "    <tr>\n",
       "      <th>1</th>\n",
       "      <td>well i downloaded it after rave reviews signup...</td>\n",
       "      <td>0</td>\n",
       "    </tr>\n",
       "    <tr>\n",
       "      <th>2</th>\n",
       "      <td>when i login online the digitoken message prom...</td>\n",
       "      <td>-1</td>\n",
       "    </tr>\n",
       "    <tr>\n",
       "      <th>3</th>\n",
       "      <td>usually dont use for bank transfer much as a s...</td>\n",
       "      <td>0</td>\n",
       "    </tr>\n",
       "    <tr>\n",
       "      <th>4</th>\n",
       "      <td>im happy to use the new version for this app u...</td>\n",
       "      <td>1</td>\n",
       "    </tr>\n",
       "  </tbody>\n",
       "</table>\n",
       "</div>"
      ],
      "text/plain": [
       "                                              Review  Label\n",
       "0  app does not refresh balance after you do a fa...     -1\n",
       "1  well i downloaded it after rave reviews signup...      0\n",
       "2  when i login online the digitoken message prom...     -1\n",
       "3  usually dont use for bank transfer much as a s...      0\n",
       "4  im happy to use the new version for this app u...      1"
      ]
     },
     "execution_count": 3,
     "metadata": {},
     "output_type": "execute_result"
    }
   ],
   "source": [
    "testing_data = pd.read_csv('testing_data.csv')\n",
    "testing_data = testing_data.sample(frac = 1).reset_index().drop(columns=['index'])\n",
    "testing_data.head()"
   ]
  },
  {
   "cell_type": "markdown",
   "metadata": {},
   "source": [
    "## Text Blob "
   ]
  },
  {
   "cell_type": "code",
   "execution_count": 4,
   "metadata": {},
   "outputs": [],
   "source": [
    "from textblob import TextBlob\n",
    "from textblob.sentiments import PatternAnalyzer"
   ]
  },
  {
   "cell_type": "code",
   "execution_count": 5,
   "metadata": {},
   "outputs": [],
   "source": [
    "def getTextBlobLabel(text):\n",
    "    score = TextBlob(text,analyzer=PatternAnalyzer()).sentiment.polarity\n",
    "    if score < 0:\n",
    "        return -1\n",
    "    elif score == 0:\n",
    "        return 0\n",
    "    else:\n",
    "        return 1"
   ]
  },
  {
   "cell_type": "code",
   "execution_count": 6,
   "metadata": {},
   "outputs": [],
   "source": [
    "for index, row in testing_data.iterrows():\n",
    "    label = getTextBlobLabel(row['Review'])\n",
    "    testing_data.at[index,'Textblob'] = label"
   ]
  },
  {
   "cell_type": "code",
   "execution_count": 7,
   "metadata": {},
   "outputs": [
    {
     "data": {
      "text/html": [
       "<div>\n",
       "<style scoped>\n",
       "    .dataframe tbody tr th:only-of-type {\n",
       "        vertical-align: middle;\n",
       "    }\n",
       "\n",
       "    .dataframe tbody tr th {\n",
       "        vertical-align: top;\n",
       "    }\n",
       "\n",
       "    .dataframe thead th {\n",
       "        text-align: right;\n",
       "    }\n",
       "</style>\n",
       "<table border=\"1\" class=\"dataframe\">\n",
       "  <thead>\n",
       "    <tr style=\"text-align: right;\">\n",
       "      <th></th>\n",
       "      <th>Review</th>\n",
       "      <th>Label</th>\n",
       "      <th>Textblob</th>\n",
       "    </tr>\n",
       "  </thead>\n",
       "  <tbody>\n",
       "    <tr>\n",
       "      <th>0</th>\n",
       "      <td>app does not refresh balance after you do a fa...</td>\n",
       "      <td>-1</td>\n",
       "      <td>1.0</td>\n",
       "    </tr>\n",
       "    <tr>\n",
       "      <th>1</th>\n",
       "      <td>well i downloaded it after rave reviews signup...</td>\n",
       "      <td>0</td>\n",
       "      <td>1.0</td>\n",
       "    </tr>\n",
       "    <tr>\n",
       "      <th>2</th>\n",
       "      <td>when i login online the digitoken message prom...</td>\n",
       "      <td>-1</td>\n",
       "      <td>0.0</td>\n",
       "    </tr>\n",
       "    <tr>\n",
       "      <th>3</th>\n",
       "      <td>usually dont use for bank transfer much as a s...</td>\n",
       "      <td>0</td>\n",
       "      <td>1.0</td>\n",
       "    </tr>\n",
       "    <tr>\n",
       "      <th>4</th>\n",
       "      <td>im happy to use the new version for this app u...</td>\n",
       "      <td>1</td>\n",
       "      <td>1.0</td>\n",
       "    </tr>\n",
       "  </tbody>\n",
       "</table>\n",
       "</div>"
      ],
      "text/plain": [
       "                                              Review  Label  Textblob\n",
       "0  app does not refresh balance after you do a fa...     -1       1.0\n",
       "1  well i downloaded it after rave reviews signup...      0       1.0\n",
       "2  when i login online the digitoken message prom...     -1       0.0\n",
       "3  usually dont use for bank transfer much as a s...      0       1.0\n",
       "4  im happy to use the new version for this app u...      1       1.0"
      ]
     },
     "execution_count": 7,
     "metadata": {},
     "output_type": "execute_result"
    }
   ],
   "source": [
    "testing_data.head()"
   ]
  },
  {
   "cell_type": "markdown",
   "metadata": {},
   "source": [
    "## VADER"
   ]
  },
  {
   "cell_type": "code",
   "execution_count": 8,
   "metadata": {},
   "outputs": [],
   "source": [
    "from nltk.sentiment import SentimentIntensityAnalyzer"
   ]
  },
  {
   "cell_type": "code",
   "execution_count": 9,
   "metadata": {},
   "outputs": [],
   "source": [
    "def getVaderLabel(text):\n",
    "    sentiment = SentimentIntensityAnalyzer()\n",
    "    sentiment_dict = sentiment.polarity_scores(text)\n",
    "    if sentiment_dict['compound'] >= 0.05:\n",
    "        return 1\n",
    "    elif sentiment_dict['compound'] <= - 0.05:\n",
    "        return -1\n",
    "    else :\n",
    "        return 0\n",
    " "
   ]
  },
  {
   "cell_type": "code",
   "execution_count": 10,
   "metadata": {},
   "outputs": [],
   "source": [
    "for index, row in testing_data.iterrows():\n",
    "    label = getVaderLabel(row['Review'])\n",
    "    testing_data.at[index,'Vader'] = label"
   ]
  },
  {
   "cell_type": "code",
   "execution_count": 11,
   "metadata": {},
   "outputs": [
    {
     "data": {
      "text/html": [
       "<div>\n",
       "<style scoped>\n",
       "    .dataframe tbody tr th:only-of-type {\n",
       "        vertical-align: middle;\n",
       "    }\n",
       "\n",
       "    .dataframe tbody tr th {\n",
       "        vertical-align: top;\n",
       "    }\n",
       "\n",
       "    .dataframe thead th {\n",
       "        text-align: right;\n",
       "    }\n",
       "</style>\n",
       "<table border=\"1\" class=\"dataframe\">\n",
       "  <thead>\n",
       "    <tr style=\"text-align: right;\">\n",
       "      <th></th>\n",
       "      <th>Review</th>\n",
       "      <th>Label</th>\n",
       "      <th>Textblob</th>\n",
       "      <th>Vader</th>\n",
       "    </tr>\n",
       "  </thead>\n",
       "  <tbody>\n",
       "    <tr>\n",
       "      <th>0</th>\n",
       "      <td>app does not refresh balance after you do a fa...</td>\n",
       "      <td>-1</td>\n",
       "      <td>1.0</td>\n",
       "      <td>-1.0</td>\n",
       "    </tr>\n",
       "    <tr>\n",
       "      <th>1</th>\n",
       "      <td>well i downloaded it after rave reviews signup...</td>\n",
       "      <td>0</td>\n",
       "      <td>1.0</td>\n",
       "      <td>1.0</td>\n",
       "    </tr>\n",
       "    <tr>\n",
       "      <th>2</th>\n",
       "      <td>when i login online the digitoken message prom...</td>\n",
       "      <td>-1</td>\n",
       "      <td>0.0</td>\n",
       "      <td>-1.0</td>\n",
       "    </tr>\n",
       "    <tr>\n",
       "      <th>3</th>\n",
       "      <td>usually dont use for bank transfer much as a s...</td>\n",
       "      <td>0</td>\n",
       "      <td>1.0</td>\n",
       "      <td>-1.0</td>\n",
       "    </tr>\n",
       "    <tr>\n",
       "      <th>4</th>\n",
       "      <td>im happy to use the new version for this app u...</td>\n",
       "      <td>1</td>\n",
       "      <td>1.0</td>\n",
       "      <td>1.0</td>\n",
       "    </tr>\n",
       "  </tbody>\n",
       "</table>\n",
       "</div>"
      ],
      "text/plain": [
       "                                              Review  Label  Textblob  Vader\n",
       "0  app does not refresh balance after you do a fa...     -1       1.0   -1.0\n",
       "1  well i downloaded it after rave reviews signup...      0       1.0    1.0\n",
       "2  when i login online the digitoken message prom...     -1       0.0   -1.0\n",
       "3  usually dont use for bank transfer much as a s...      0       1.0   -1.0\n",
       "4  im happy to use the new version for this app u...      1       1.0    1.0"
      ]
     },
     "execution_count": 11,
     "metadata": {},
     "output_type": "execute_result"
    }
   ],
   "source": [
    "testing_data.head()"
   ]
  },
  {
   "cell_type": "markdown",
   "metadata": {},
   "source": [
    "## Transformers "
   ]
  },
  {
   "cell_type": "code",
   "execution_count": 12,
   "metadata": {},
   "outputs": [
    {
     "name": "stderr",
     "output_type": "stream",
     "text": [
      "C:\\Users\\jenni\\AppData\\Local\\Packages\\PythonSoftwareFoundation.Python.3.12_qbz5n2kfra8p0\\LocalCache\\local-packages\\Python312\\site-packages\\tqdm\\auto.py:21: TqdmWarning: IProgress not found. Please update jupyter and ipywidgets. See https://ipywidgets.readthedocs.io/en/stable/user_install.html\n",
      "  from .autonotebook import tqdm as notebook_tqdm\n"
     ]
    }
   ],
   "source": [
    "from transformers import pipeline"
   ]
  },
  {
   "cell_type": "markdown",
   "metadata": {},
   "source": [
    "### Aift \n"
   ]
  },
  {
   "cell_type": "code",
   "execution_count": 13,
   "metadata": {},
   "outputs": [],
   "source": [
    "def getAiftTransLabel(text):\n",
    "    pipe = pipeline(\"text-classification\", model=\"Cielciel/aift-model-review-multiple-label-classification\", top_k = None, truncation=True)\n",
    "    sentiment_dict = pipe(text)\n",
    "\n",
    "    highest_score = 0\n",
    "    sentiment_category = None\n",
    "    \n",
    "    for item in sentiment_dict[0]:\n",
    "        # Check if the label corresponds to positive, neutral, or negative sentiment\n",
    "        label = item['label']\n",
    "        if label in ['positive', 'neutral', 'negative']:\n",
    "            # If the score is higher than the current highest score, update the highest score and sentiment category\n",
    "            if item['score'] > highest_score:\n",
    "                highest_score = item['score']\n",
    "                sentiment_category = label\n",
    "\n",
    "    if sentiment_category == 'positive':\n",
    "        return 1\n",
    "    elif sentiment_category == 'negative':\n",
    "        return -1\n",
    "    else :\n",
    "        return 0"
   ]
  },
  {
   "cell_type": "code",
   "execution_count": 14,
   "metadata": {},
   "outputs": [
    {
     "name": "stdout",
     "output_type": "stream",
     "text": [
      "WARNING:tensorflow:From C:\\Users\\jenni\\AppData\\Local\\Packages\\PythonSoftwareFoundation.Python.3.12_qbz5n2kfra8p0\\LocalCache\\local-packages\\Python312\\site-packages\\tf_keras\\src\\losses.py:2976: The name tf.losses.sparse_softmax_cross_entropy is deprecated. Please use tf.compat.v1.losses.sparse_softmax_cross_entropy instead.\n",
      "\n"
     ]
    }
   ],
   "source": [
    "for index, row in testing_data.iterrows():\n",
    "    label = getAiftTransLabel(row['Review'])\n",
    "    testing_data.at[index,'Aift'] = label"
   ]
  },
  {
   "cell_type": "code",
   "execution_count": 15,
   "metadata": {},
   "outputs": [
    {
     "data": {
      "text/html": [
       "<div>\n",
       "<style scoped>\n",
       "    .dataframe tbody tr th:only-of-type {\n",
       "        vertical-align: middle;\n",
       "    }\n",
       "\n",
       "    .dataframe tbody tr th {\n",
       "        vertical-align: top;\n",
       "    }\n",
       "\n",
       "    .dataframe thead th {\n",
       "        text-align: right;\n",
       "    }\n",
       "</style>\n",
       "<table border=\"1\" class=\"dataframe\">\n",
       "  <thead>\n",
       "    <tr style=\"text-align: right;\">\n",
       "      <th></th>\n",
       "      <th>Review</th>\n",
       "      <th>Label</th>\n",
       "      <th>Textblob</th>\n",
       "      <th>Vader</th>\n",
       "      <th>Aift</th>\n",
       "    </tr>\n",
       "  </thead>\n",
       "  <tbody>\n",
       "    <tr>\n",
       "      <th>0</th>\n",
       "      <td>app does not refresh balance after you do a fa...</td>\n",
       "      <td>-1</td>\n",
       "      <td>1.0</td>\n",
       "      <td>-1.0</td>\n",
       "      <td>-1.0</td>\n",
       "    </tr>\n",
       "    <tr>\n",
       "      <th>1</th>\n",
       "      <td>well i downloaded it after rave reviews signup...</td>\n",
       "      <td>0</td>\n",
       "      <td>1.0</td>\n",
       "      <td>1.0</td>\n",
       "      <td>0.0</td>\n",
       "    </tr>\n",
       "    <tr>\n",
       "      <th>2</th>\n",
       "      <td>when i login online the digitoken message prom...</td>\n",
       "      <td>-1</td>\n",
       "      <td>0.0</td>\n",
       "      <td>-1.0</td>\n",
       "      <td>-1.0</td>\n",
       "    </tr>\n",
       "    <tr>\n",
       "      <th>3</th>\n",
       "      <td>usually dont use for bank transfer much as a s...</td>\n",
       "      <td>0</td>\n",
       "      <td>1.0</td>\n",
       "      <td>-1.0</td>\n",
       "      <td>0.0</td>\n",
       "    </tr>\n",
       "    <tr>\n",
       "      <th>4</th>\n",
       "      <td>im happy to use the new version for this app u...</td>\n",
       "      <td>1</td>\n",
       "      <td>1.0</td>\n",
       "      <td>1.0</td>\n",
       "      <td>1.0</td>\n",
       "    </tr>\n",
       "  </tbody>\n",
       "</table>\n",
       "</div>"
      ],
      "text/plain": [
       "                                              Review  Label  Textblob  Vader  \\\n",
       "0  app does not refresh balance after you do a fa...     -1       1.0   -1.0   \n",
       "1  well i downloaded it after rave reviews signup...      0       1.0    1.0   \n",
       "2  when i login online the digitoken message prom...     -1       0.0   -1.0   \n",
       "3  usually dont use for bank transfer much as a s...      0       1.0   -1.0   \n",
       "4  im happy to use the new version for this app u...      1       1.0    1.0   \n",
       "\n",
       "   Aift  \n",
       "0  -1.0  \n",
       "1   0.0  \n",
       "2  -1.0  \n",
       "3   0.0  \n",
       "4   1.0  "
      ]
     },
     "execution_count": 15,
     "metadata": {},
     "output_type": "execute_result"
    }
   ],
   "source": [
    "testing_data.head()"
   ]
  },
  {
   "cell_type": "markdown",
   "metadata": {},
   "source": [
    "### roBERTa\n"
   ]
  },
  {
   "cell_type": "code",
   "execution_count": 16,
   "metadata": {},
   "outputs": [],
   "source": [
    "import logging\n",
    "logging.getLogger(\"transformers.modeling_utils\").setLevel(logging.ERROR)"
   ]
  },
  {
   "cell_type": "code",
   "execution_count": 17,
   "metadata": {},
   "outputs": [],
   "source": [
    "\n",
    "def getRoBERTaTransLabel(text):\n",
    "    pipe = pipeline(\"text-classification\", model=\"cardiffnlp/twitter-roberta-base-sentiment-latest\")\n",
    "    sentiment_dict = pipe(text)\n",
    "    sentiment = sentiment_dict[0]['label']\n",
    "    if sentiment == 'positive':\n",
    "        return 1\n",
    "    elif sentiment == 'negative':\n",
    "        return -1\n",
    "    else :\n",
    "        return 0\n"
   ]
  },
  {
   "cell_type": "code",
   "execution_count": 18,
   "metadata": {},
   "outputs": [],
   "source": [
    "for index, row in testing_data.iterrows():\n",
    "    label = getRoBERTaTransLabel(row['Review'])\n",
    "    testing_data.at[index,'RoBERTa'] = label"
   ]
  },
  {
   "cell_type": "code",
   "execution_count": 19,
   "metadata": {},
   "outputs": [
    {
     "data": {
      "text/html": [
       "<div>\n",
       "<style scoped>\n",
       "    .dataframe tbody tr th:only-of-type {\n",
       "        vertical-align: middle;\n",
       "    }\n",
       "\n",
       "    .dataframe tbody tr th {\n",
       "        vertical-align: top;\n",
       "    }\n",
       "\n",
       "    .dataframe thead th {\n",
       "        text-align: right;\n",
       "    }\n",
       "</style>\n",
       "<table border=\"1\" class=\"dataframe\">\n",
       "  <thead>\n",
       "    <tr style=\"text-align: right;\">\n",
       "      <th></th>\n",
       "      <th>Review</th>\n",
       "      <th>Label</th>\n",
       "      <th>Textblob</th>\n",
       "      <th>Vader</th>\n",
       "      <th>Aift</th>\n",
       "      <th>RoBERTa</th>\n",
       "    </tr>\n",
       "  </thead>\n",
       "  <tbody>\n",
       "    <tr>\n",
       "      <th>0</th>\n",
       "      <td>app does not refresh balance after you do a fa...</td>\n",
       "      <td>-1</td>\n",
       "      <td>1.0</td>\n",
       "      <td>-1.0</td>\n",
       "      <td>-1.0</td>\n",
       "      <td>-1.0</td>\n",
       "    </tr>\n",
       "    <tr>\n",
       "      <th>1</th>\n",
       "      <td>well i downloaded it after rave reviews signup...</td>\n",
       "      <td>0</td>\n",
       "      <td>1.0</td>\n",
       "      <td>1.0</td>\n",
       "      <td>0.0</td>\n",
       "      <td>0.0</td>\n",
       "    </tr>\n",
       "    <tr>\n",
       "      <th>2</th>\n",
       "      <td>when i login online the digitoken message prom...</td>\n",
       "      <td>-1</td>\n",
       "      <td>0.0</td>\n",
       "      <td>-1.0</td>\n",
       "      <td>-1.0</td>\n",
       "      <td>0.0</td>\n",
       "    </tr>\n",
       "    <tr>\n",
       "      <th>3</th>\n",
       "      <td>usually dont use for bank transfer much as a s...</td>\n",
       "      <td>0</td>\n",
       "      <td>1.0</td>\n",
       "      <td>-1.0</td>\n",
       "      <td>0.0</td>\n",
       "      <td>0.0</td>\n",
       "    </tr>\n",
       "    <tr>\n",
       "      <th>4</th>\n",
       "      <td>im happy to use the new version for this app u...</td>\n",
       "      <td>1</td>\n",
       "      <td>1.0</td>\n",
       "      <td>1.0</td>\n",
       "      <td>1.0</td>\n",
       "      <td>1.0</td>\n",
       "    </tr>\n",
       "  </tbody>\n",
       "</table>\n",
       "</div>"
      ],
      "text/plain": [
       "                                              Review  Label  Textblob  Vader  \\\n",
       "0  app does not refresh balance after you do a fa...     -1       1.0   -1.0   \n",
       "1  well i downloaded it after rave reviews signup...      0       1.0    1.0   \n",
       "2  when i login online the digitoken message prom...     -1       0.0   -1.0   \n",
       "3  usually dont use for bank transfer much as a s...      0       1.0   -1.0   \n",
       "4  im happy to use the new version for this app u...      1       1.0    1.0   \n",
       "\n",
       "   Aift  RoBERTa  \n",
       "0  -1.0     -1.0  \n",
       "1   0.0      0.0  \n",
       "2  -1.0      0.0  \n",
       "3   0.0      0.0  \n",
       "4   1.0      1.0  "
      ]
     },
     "execution_count": 19,
     "metadata": {},
     "output_type": "execute_result"
    }
   ],
   "source": [
    "testing_data.head()"
   ]
  },
  {
   "cell_type": "markdown",
   "metadata": {},
   "source": [
    "### BERTweet"
   ]
  },
  {
   "cell_type": "code",
   "execution_count": 20,
   "metadata": {},
   "outputs": [],
   "source": [
    "def getBERTweetTransLabel(text):\n",
    "    pipe = pipeline(\"text-classification\", model=\"finiteautomata/bertweet-base-sentiment-analysis\", truncation = True)\n",
    "    sentiment_dict = pipe(text)\n",
    "    sentiment = sentiment_dict[0]['label']\n",
    "    if sentiment == 'POS':\n",
    "        return 1\n",
    "    elif sentiment == 'NEG':\n",
    "        return -1\n",
    "    else :\n",
    "        return 0"
   ]
  },
  {
   "cell_type": "code",
   "execution_count": 21,
   "metadata": {},
   "outputs": [],
   "source": [
    "for index, row in testing_data.iterrows():\n",
    "    label = getBERTweetTransLabel(row['Review'])\n",
    "    testing_data.at[index,'BERTweet'] = label"
   ]
  },
  {
   "cell_type": "code",
   "execution_count": 22,
   "metadata": {},
   "outputs": [
    {
     "data": {
      "text/html": [
       "<div>\n",
       "<style scoped>\n",
       "    .dataframe tbody tr th:only-of-type {\n",
       "        vertical-align: middle;\n",
       "    }\n",
       "\n",
       "    .dataframe tbody tr th {\n",
       "        vertical-align: top;\n",
       "    }\n",
       "\n",
       "    .dataframe thead th {\n",
       "        text-align: right;\n",
       "    }\n",
       "</style>\n",
       "<table border=\"1\" class=\"dataframe\">\n",
       "  <thead>\n",
       "    <tr style=\"text-align: right;\">\n",
       "      <th></th>\n",
       "      <th>Review</th>\n",
       "      <th>Label</th>\n",
       "      <th>Textblob</th>\n",
       "      <th>Vader</th>\n",
       "      <th>Aift</th>\n",
       "      <th>RoBERTa</th>\n",
       "      <th>BERTweet</th>\n",
       "    </tr>\n",
       "  </thead>\n",
       "  <tbody>\n",
       "    <tr>\n",
       "      <th>0</th>\n",
       "      <td>app does not refresh balance after you do a fa...</td>\n",
       "      <td>-1</td>\n",
       "      <td>1.0</td>\n",
       "      <td>-1.0</td>\n",
       "      <td>-1.0</td>\n",
       "      <td>-1.0</td>\n",
       "      <td>-1.0</td>\n",
       "    </tr>\n",
       "    <tr>\n",
       "      <th>1</th>\n",
       "      <td>well i downloaded it after rave reviews signup...</td>\n",
       "      <td>0</td>\n",
       "      <td>1.0</td>\n",
       "      <td>1.0</td>\n",
       "      <td>0.0</td>\n",
       "      <td>0.0</td>\n",
       "      <td>0.0</td>\n",
       "    </tr>\n",
       "    <tr>\n",
       "      <th>2</th>\n",
       "      <td>when i login online the digitoken message prom...</td>\n",
       "      <td>-1</td>\n",
       "      <td>0.0</td>\n",
       "      <td>-1.0</td>\n",
       "      <td>-1.0</td>\n",
       "      <td>0.0</td>\n",
       "      <td>-1.0</td>\n",
       "    </tr>\n",
       "    <tr>\n",
       "      <th>3</th>\n",
       "      <td>usually dont use for bank transfer much as a s...</td>\n",
       "      <td>0</td>\n",
       "      <td>1.0</td>\n",
       "      <td>-1.0</td>\n",
       "      <td>0.0</td>\n",
       "      <td>0.0</td>\n",
       "      <td>0.0</td>\n",
       "    </tr>\n",
       "    <tr>\n",
       "      <th>4</th>\n",
       "      <td>im happy to use the new version for this app u...</td>\n",
       "      <td>1</td>\n",
       "      <td>1.0</td>\n",
       "      <td>1.0</td>\n",
       "      <td>1.0</td>\n",
       "      <td>1.0</td>\n",
       "      <td>1.0</td>\n",
       "    </tr>\n",
       "  </tbody>\n",
       "</table>\n",
       "</div>"
      ],
      "text/plain": [
       "                                              Review  Label  Textblob  Vader  \\\n",
       "0  app does not refresh balance after you do a fa...     -1       1.0   -1.0   \n",
       "1  well i downloaded it after rave reviews signup...      0       1.0    1.0   \n",
       "2  when i login online the digitoken message prom...     -1       0.0   -1.0   \n",
       "3  usually dont use for bank transfer much as a s...      0       1.0   -1.0   \n",
       "4  im happy to use the new version for this app u...      1       1.0    1.0   \n",
       "\n",
       "   Aift  RoBERTa  BERTweet  \n",
       "0  -1.0     -1.0      -1.0  \n",
       "1   0.0      0.0       0.0  \n",
       "2  -1.0      0.0      -1.0  \n",
       "3   0.0      0.0       0.0  \n",
       "4   1.0      1.0       1.0  "
      ]
     },
     "execution_count": 22,
     "metadata": {},
     "output_type": "execute_result"
    }
   ],
   "source": [
    "testing_data.head()"
   ]
  },
  {
   "cell_type": "markdown",
   "metadata": {},
   "source": [
    "# Comparison of results "
   ]
  },
  {
   "cell_type": "code",
   "execution_count": 23,
   "metadata": {},
   "outputs": [],
   "source": [
    "from sklearn.metrics import classification_report"
   ]
  },
  {
   "cell_type": "code",
   "execution_count": 24,
   "metadata": {},
   "outputs": [
    {
     "name": "stdout",
     "output_type": "stream",
     "text": [
      "Classification report for Textblob:\n",
      "              precision    recall  f1-score   support\n",
      "\n",
      "          -1       0.75      0.33      0.46         9\n",
      "           0       0.00      0.00      0.00        11\n",
      "           1       0.42      1.00      0.59        10\n",
      "\n",
      "    accuracy                           0.43        30\n",
      "   macro avg       0.39      0.44      0.35        30\n",
      "weighted avg       0.36      0.43      0.33        30\n",
      "\n",
      "\n",
      "\n",
      "Classification report for Vader:\n",
      "              precision    recall  f1-score   support\n",
      "\n",
      "          -1       0.50      0.44      0.47         9\n",
      "           0       0.00      0.00      0.00        11\n",
      "           1       0.48      1.00      0.65        10\n",
      "\n",
      "    accuracy                           0.47        30\n",
      "   macro avg       0.33      0.48      0.37        30\n",
      "weighted avg       0.31      0.47      0.36        30\n",
      "\n",
      "\n",
      "\n",
      "Classification report for Aift:\n",
      "              precision    recall  f1-score   support\n",
      "\n",
      "          -1       0.62      0.89      0.73         9\n",
      "           0       0.60      0.27      0.38        11\n",
      "           1       0.67      0.80      0.73        10\n",
      "\n",
      "    accuracy                           0.63        30\n",
      "   macro avg       0.63      0.65      0.61        30\n",
      "weighted avg       0.63      0.63      0.60        30\n",
      "\n",
      "\n",
      "\n",
      "Classification report for RoBERTa:\n",
      "              precision    recall  f1-score   support\n",
      "\n",
      "          -1       0.62      0.89      0.73         9\n",
      "           0       0.60      0.27      0.38        11\n",
      "           1       0.75      0.90      0.82        10\n",
      "\n",
      "    accuracy                           0.67        30\n",
      "   macro avg       0.66      0.69      0.64        30\n",
      "weighted avg       0.65      0.67      0.63        30\n",
      "\n",
      "\n",
      "\n",
      "Classification report for BERTweet:\n",
      "              precision    recall  f1-score   support\n",
      "\n",
      "          -1       0.75      1.00      0.86         9\n",
      "           0       0.80      0.36      0.50        11\n",
      "           1       0.69      0.90      0.78        10\n",
      "\n",
      "    accuracy                           0.73        30\n",
      "   macro avg       0.75      0.75      0.71        30\n",
      "weighted avg       0.75      0.73      0.70        30\n",
      "\n",
      "\n",
      "\n"
     ]
    }
   ],
   "source": [
    "classification_reports = []\n",
    "\n",
    "for col in testing_data.columns[2:]:\n",
    "    report = classification_report(testing_data['Label'], testing_data[col], output_dict=True)\n",
    "    classification_reports.append((col, report))\n",
    "\n",
    "# Print classification reports\n",
    "for model, report in classification_reports:\n",
    "    print(f\"Classification report for {model}:\")\n",
    "    print(classification_report(testing_data['Label'], testing_data[model]))\n",
    "    print('\\n')"
   ]
  },
  {
   "cell_type": "code",
   "execution_count": 25,
   "metadata": {},
   "outputs": [],
   "source": [
    "# Plotting\n",
    "models = [report[0] for report in classification_reports]\n",
    "accuracy = [report[1]['accuracy'] for report in classification_reports]\n",
    "precision_positive = [report[1]['1']['precision'] for report in classification_reports]\n",
    "precision_neutral = [report[1]['0']['precision'] for report in classification_reports]\n",
    "precision_negative = [report[1]['-1']['precision'] for report in classification_reports]\n",
    "recall_positive = [report[1]['1']['recall'] for report in classification_reports]\n",
    "recall_neutral = [report[1]['0']['recall'] for report in classification_reports]\n",
    "recall_negative = [report[1]['-1']['recall'] for report in classification_reports]"
   ]
  },
  {
   "cell_type": "code",
   "execution_count": 26,
   "metadata": {},
   "outputs": [
    {
     "data": {
      "image/png": "[encoded data removed]",
      "text/plain": [
       "<Figure size 700x400 with 1 Axes>"
      ]
     },
     "metadata": {},
     "output_type": "display_data"
    }
   ],
   "source": [
    "# Plotting Accuracy\n",
    "plt.figure(figsize=(7, 4))\n",
    "plt.bar(models, accuracy)\n",
    "plt.title('Accuracy Comparison for Different Models')\n",
    "plt.xlabel('Models')\n",
    "plt.ylabel('Accuracy')\n",
    "plt.xticks(rotation=45)\n",
    "plt.tight_layout()\n",
    "plt.show()"
   ]
  },
  {
   "cell_type": "code",
   "execution_count": 27,
   "metadata": {},
   "outputs": [
    {
     "data": {
      "image/png": "[encoded data removed]",
      "text/plain": [
       "<Figure size 700x400 with 1 Axes>"
      ]
     },
     "metadata": {},
     "output_type": "display_data"
    }
   ],
   "source": [
    "# Plotting Precision\n",
    "plt.figure(figsize=(7, 4))\n",
    "bar_width = 0.2\n",
    "index = range(len(models))\n",
    "plt.bar(index, precision_positive, width=bar_width, color='green', label='Positive Precision')\n",
    "plt.bar([i + bar_width for i in index], precision_neutral, width=bar_width, color='yellow', label='Neutral Precision')\n",
    "plt.bar([i + 2*bar_width for i in index], precision_negative, width=bar_width, color='red', label='Negative Precision')\n",
    "plt.title('Precision Comparison for Different Models')\n",
    "plt.xlabel('Models')\n",
    "plt.ylabel('Precision')\n",
    "plt.xticks([i + bar_width for i in index], models, rotation=45)\n",
    "plt.legend()\n",
    "plt.tight_layout()\n",
    "plt.show()"
   ]
  },
  {
   "cell_type": "code",
   "execution_count": 28,
   "metadata": {},
   "outputs": [
    {
     "data": {
      "image/png": "[encoded data removed]",
      "text/plain": [
       "<Figure size 700x400 with 1 Axes>"
      ]
     },
     "metadata": {},
     "output_type": "display_data"
    }
   ],
   "source": [
    "# Plotting Recall\n",
    "plt.figure(figsize=(7, 4))\n",
    "bar_width = 0.2\n",
    "index = range(len(models))\n",
    "plt.bar(index, recall_positive, width=bar_width, color='green', label='Positive Recall')\n",
    "plt.bar([i + bar_width for i in index], recall_neutral, width=bar_width, color='yellow', label='Neutral Recall')\n",
    "plt.bar([i + 2*bar_width for i in index], recall_negative, width=bar_width, color='red', label='Negative Recall')\n",
    "plt.title('Recall Comparison for Different Models')\n",
    "plt.xlabel('Models')\n",
    "plt.ylabel('Recall')\n",
    "plt.xticks([i + bar_width for i in index], models, rotation=45)\n",
    "plt.legend()\n",
    "plt.tight_layout()\n",
    "plt.show()"
   ]
  }
 ],
 "metadata": {
  "kernelspec": {
   "display_name": "Python 3",
   "language": "python",
   "name": "python3"
  },
  "language_info": {
   "codemirror_mode": {
    "name": "ipython",
    "version": 3
   },
   "file_extension": ".py",
   "mimetype": "text/x-python",
   "name": "python",
   "nbconvert_exporter": "python",
   "pygments_lexer": "ipython3",
   "version": "3.12.3"
  }
 },
 "nbformat": 4,
 "nbformat_minor": 2
}
