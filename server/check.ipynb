{
 "cells": [
  {
   "cell_type": "code",
   "execution_count": 1,
   "metadata": {},
   "outputs": [],
   "source": [
    "from scraper.scrape_pipeline import ScrapePipeline\n",
    "from database.database_pipeline import DataManager\n",
    "from dotenv import load_dotenv\n",
    "import os\n",
    "import pandas as pd"
   ]
  },
  {
   "cell_type": "code",
   "execution_count": 2,
   "metadata": {},
   "outputs": [
    {
     "name": "stderr",
     "output_type": "stream",
     "text": [
      "c:\\Users\\redbl\\Desktop\\Courseworks\\Y3S2\\DSA3101 Data Science in Practice\\Project\\Banking-Sentiment-Analysis\\server\\venv\\Lib\\site-packages\\tqdm\\auto.py:21: TqdmWarning: IProgress not found. Please update jupyter and ipywidgets. See https://ipywidgets.readthedocs.io/en/stable/user_install.html\n",
      "  from .autonotebook import tqdm as notebook_tqdm\n",
      "[nltk_data] Downloading package stopwords to\n",
      "[nltk_data]     C:\\Users\\redbl\\AppData\\Roaming\\nltk_data...\n",
      "[nltk_data]   Package stopwords is already up-to-date!\n"
     ]
    }
   ],
   "source": [
    "from explainer.explainer import Explainer\n",
    "from models.sentiment_analysis_model import SentimentAnalysisModel\n",
    "from models.topic_model import TopicModel"
   ]
  },
  {
   "cell_type": "code",
   "execution_count": 9,
   "metadata": {},
   "outputs": [],
   "source": [
    "scraper = ScrapePipeline(DataManager(\"waddlewafflesbackend\", \"UJVkE6GCHQrokIhM\"))"
   ]
  },
  {
   "cell_type": "code",
   "execution_count": 10,
   "metadata": {},
   "outputs": [],
   "source": [
    "all_reviews, playstore_scraped_datetime, app_scraped_datetime = scraper.scrape_new_reviews()"
   ]
  },
  {
   "cell_type": "code",
   "execution_count": 11,
   "metadata": {},
   "outputs": [
    {
     "data": {
      "text/html": [
       "<div>\n",
       "<style scoped>\n",
       "    .dataframe tbody tr th:only-of-type {\n",
       "        vertical-align: middle;\n",
       "    }\n",
       "\n",
       "    .dataframe tbody tr th {\n",
       "        vertical-align: top;\n",
       "    }\n",
       "\n",
       "    .dataframe thead th {\n",
       "        text-align: right;\n",
       "    }\n",
       "</style>\n",
       "<table border=\"1\" class=\"dataframe\">\n",
       "  <thead>\n",
       "    <tr style=\"text-align: right;\">\n",
       "      <th></th>\n",
       "      <th>review</th>\n",
       "      <th>rating</th>\n",
       "      <th>bank</th>\n",
       "      <th>title</th>\n",
       "      <th>source</th>\n",
       "      <th>year</th>\n",
       "      <th>month</th>\n",
       "      <th>day</th>\n",
       "    </tr>\n",
       "  </thead>\n",
       "  <tbody>\n",
       "    <tr>\n",
       "      <th>0</th>\n",
       "      <td>i like how the app is really light and fast co...</td>\n",
       "      <td>5</td>\n",
       "      <td>GXS</td>\n",
       "      <td></td>\n",
       "      <td>playstore</td>\n",
       "      <td>2024</td>\n",
       "      <td>4</td>\n",
       "      <td>15</td>\n",
       "    </tr>\n",
       "    <tr>\n",
       "      <th>1</th>\n",
       "      <td>cannot add card to google pay also cannot add ...</td>\n",
       "      <td>1</td>\n",
       "      <td>GXS</td>\n",
       "      <td></td>\n",
       "      <td>playstore</td>\n",
       "      <td>2024</td>\n",
       "      <td>4</td>\n",
       "      <td>13</td>\n",
       "    </tr>\n",
       "    <tr>\n",
       "      <th>2</th>\n",
       "      <td>generally good however please add either nfc f...</td>\n",
       "      <td>4</td>\n",
       "      <td>GXS</td>\n",
       "      <td></td>\n",
       "      <td>playstore</td>\n",
       "      <td>2024</td>\n",
       "      <td>4</td>\n",
       "      <td>13</td>\n",
       "    </tr>\n",
       "    <tr>\n",
       "      <th>3</th>\n",
       "      <td>with continuous failed to log in contacted cso...</td>\n",
       "      <td>1</td>\n",
       "      <td>GXS</td>\n",
       "      <td></td>\n",
       "      <td>playstore</td>\n",
       "      <td>2024</td>\n",
       "      <td>4</td>\n",
       "      <td>11</td>\n",
       "    </tr>\n",
       "    <tr>\n",
       "      <th>4</th>\n",
       "      <td>i don t get the negative reviews here i instal...</td>\n",
       "      <td>5</td>\n",
       "      <td>GXS</td>\n",
       "      <td></td>\n",
       "      <td>playstore</td>\n",
       "      <td>2024</td>\n",
       "      <td>4</td>\n",
       "      <td>9</td>\n",
       "    </tr>\n",
       "    <tr>\n",
       "      <th>...</th>\n",
       "      <td>...</td>\n",
       "      <td>...</td>\n",
       "      <td>...</td>\n",
       "      <td>...</td>\n",
       "      <td>...</td>\n",
       "      <td>...</td>\n",
       "      <td>...</td>\n",
       "      <td>...</td>\n",
       "    </tr>\n",
       "    <tr>\n",
       "      <th>1241</th>\n",
       "      <td>trust bank sg is one of the best app i used an...</td>\n",
       "      <td>5</td>\n",
       "      <td>TRUST</td>\n",
       "      <td></td>\n",
       "      <td>playstore</td>\n",
       "      <td>2024</td>\n",
       "      <td>3</td>\n",
       "      <td>18</td>\n",
       "    </tr>\n",
       "    <tr>\n",
       "      <th>1242</th>\n",
       "      <td>trust bank singapore is a digital bank backed ...</td>\n",
       "      <td>5</td>\n",
       "      <td>TRUST</td>\n",
       "      <td></td>\n",
       "      <td>playstore</td>\n",
       "      <td>2024</td>\n",
       "      <td>3</td>\n",
       "      <td>17</td>\n",
       "    </tr>\n",
       "    <tr>\n",
       "      <th>1243</th>\n",
       "      <td>super easy with applying a new account credit ...</td>\n",
       "      <td>4</td>\n",
       "      <td>TRUST</td>\n",
       "      <td></td>\n",
       "      <td>playstore</td>\n",
       "      <td>2024</td>\n",
       "      <td>3</td>\n",
       "      <td>17</td>\n",
       "    </tr>\n",
       "    <tr>\n",
       "      <th>1244</th>\n",
       "      <td>service to unlock the card where apps already ...</td>\n",
       "      <td>4</td>\n",
       "      <td>TRUST</td>\n",
       "      <td></td>\n",
       "      <td>playstore</td>\n",
       "      <td>2024</td>\n",
       "      <td>3</td>\n",
       "      <td>16</td>\n",
       "    </tr>\n",
       "    <tr>\n",
       "      <th>1245</th>\n",
       "      <td>in trust bank sg you can open online bank and ...</td>\n",
       "      <td>5</td>\n",
       "      <td>TRUST</td>\n",
       "      <td></td>\n",
       "      <td>playstore</td>\n",
       "      <td>2024</td>\n",
       "      <td>3</td>\n",
       "      <td>16</td>\n",
       "    </tr>\n",
       "  </tbody>\n",
       "</table>\n",
       "<p>399 rows × 8 columns</p>\n",
       "</div>"
      ],
      "text/plain": [
       "                                                 review rating   bank title  \\\n",
       "0     i like how the app is really light and fast co...      5    GXS         \n",
       "1     cannot add card to google pay also cannot add ...      1    GXS         \n",
       "2     generally good however please add either nfc f...      4    GXS         \n",
       "3     with continuous failed to log in contacted cso...      1    GXS         \n",
       "4     i don t get the negative reviews here i instal...      5    GXS         \n",
       "...                                                 ...    ...    ...   ...   \n",
       "1241  trust bank sg is one of the best app i used an...      5  TRUST         \n",
       "1242  trust bank singapore is a digital bank backed ...      5  TRUST         \n",
       "1243  super easy with applying a new account credit ...      4  TRUST         \n",
       "1244  service to unlock the card where apps already ...      4  TRUST         \n",
       "1245  in trust bank sg you can open online bank and ...      5  TRUST         \n",
       "\n",
       "         source  year  month  day  \n",
       "0     playstore  2024      4   15  \n",
       "1     playstore  2024      4   13  \n",
       "2     playstore  2024      4   13  \n",
       "3     playstore  2024      4   11  \n",
       "4     playstore  2024      4    9  \n",
       "...         ...   ...    ...  ...  \n",
       "1241  playstore  2024      3   18  \n",
       "1242  playstore  2024      3   17  \n",
       "1243  playstore  2024      3   17  \n",
       "1244  playstore  2024      3   16  \n",
       "1245  playstore  2024      3   16  \n",
       "\n",
       "[399 rows x 8 columns]"
      ]
     },
     "execution_count": 11,
     "metadata": {},
     "output_type": "execute_result"
    }
   ],
   "source": [
    "all_reviews"
   ]
  },
  {
   "cell_type": "code",
   "execution_count": 3,
   "metadata": {},
   "outputs": [
    {
     "data": {
      "text/plain": [
       "datetime.datetime(2024, 4, 16, 2, 27, 36, 974202)"
      ]
     },
     "execution_count": 3,
     "metadata": {},
     "output_type": "execute_result"
    }
   ],
   "source": [
    "app_scraped_datetime"
   ]
  },
  {
   "cell_type": "code",
   "execution_count": 7,
   "metadata": {},
   "outputs": [
    {
     "data": {
      "text/plain": [
       "'2024-04-16 02:22:06'"
      ]
     },
     "execution_count": 7,
     "metadata": {},
     "output_type": "execute_result"
    }
   ],
   "source": [
    "playstore_scraped_datetime.strftime(\"%Y-%m-%d %H:%M:%S\")"
   ]
  },
  {
   "cell_type": "code",
   "execution_count": 3,
   "metadata": {},
   "outputs": [
    {
     "name": "stderr",
     "output_type": "stream",
     "text": [
      "No model was supplied, defaulted to facebook/bart-large-mnli and revision c626438 (https://huggingface.co/facebook/bart-large-mnli).\n",
      "Using a pipeline without specifying a model name and revision in production is not recommended.\n"
     ]
    }
   ],
   "source": [
    "sentiment_model = SentimentAnalysisModel()\n",
    "explainer = Explainer(sentiment_model.pipe)\n",
    "topic_model = TopicModel([\"login\", \"interface\", \"stability\", \"update\", \"notifications\", \"speed\", \"service\", \"functions\", \"security\"])"
   ]
  },
  {
   "cell_type": "code",
   "execution_count": 4,
   "metadata": {},
   "outputs": [],
   "source": [
    "k = pd.read_csv(\"newdata.csv\")\n",
    "del k[\"Unnamed: 0\"]"
   ]
  },
  {
   "cell_type": "code",
   "execution_count": 5,
   "metadata": {},
   "outputs": [
    {
     "name": "stdout",
     "output_type": "stream",
     "text": [
      ".............RUNNING SENTIMENT MODEL..............\n"
     ]
    }
   ],
   "source": [
    "print(\".............RUNNING SENTIMENT MODEL..............\")\n",
    "sentiments = sentiment_model.get_sentiment(k[\"review\"].to_list())\n",
    "k[\"sentiment\"] = [max(sentiment, key=sentiment.get) for sentiment in sentiments]"
   ]
  },
  {
   "cell_type": "code",
   "execution_count": 17,
   "metadata": {},
   "outputs": [
    {
     "name": "stdout",
     "output_type": "stream",
     "text": [
      "i like how the app is really light and fast compared to other bank apps\n",
      "cannot add card to google pay also cannot add card to touch n go \n",
      "generally good however please add either nfc function to the app or allow link to google wallet or apple pay everyone is going wallet less these days without having the need to carry physical wallets or cards and why are we unable to scan sgqr codes for payments only paynow qr codes would definitely get my stars if not for the above shortcomings stars for now \n",
      "with continuous failed to log in contacted cso to terminate the account and we re informed once acct close can t be reinstated im fine with it since the problem it s on your app \n",
      "great banking app with attractive interest rates please allow us to add and or save payees so we dont have to keep typing out uen numbers or account numbers would be nice to be able to add the debit card to apple pay too \n",
      "very smooth to use and attractive app simple features and excited to see more advanced banking features in future \n",
      "apply one year ago say when slots open up will let me know efficient bank sureee\n",
      "i cannot login since december not safe\n",
      "hassle free\n",
      "heheh\n"
     ]
    }
   ],
   "source": [
    "for i in k.iloc:\n",
    "    if i[\"bank\"] == \"GXS\":\n",
    "        print(i[\"review\"])"
   ]
  },
  {
   "cell_type": "code",
   "execution_count": 15,
   "metadata": {},
   "outputs": [
    {
     "data": {
      "text/html": [
       "<div>\n",
       "<style scoped>\n",
       "    .dataframe tbody tr th:only-of-type {\n",
       "        vertical-align: middle;\n",
       "    }\n",
       "\n",
       "    .dataframe tbody tr th {\n",
       "        vertical-align: top;\n",
       "    }\n",
       "\n",
       "    .dataframe thead th {\n",
       "        text-align: right;\n",
       "    }\n",
       "</style>\n",
       "<table border=\"1\" class=\"dataframe\">\n",
       "  <thead>\n",
       "    <tr style=\"text-align: right;\">\n",
       "      <th></th>\n",
       "      <th>review</th>\n",
       "      <th>rating</th>\n",
       "      <th>bank</th>\n",
       "      <th>title</th>\n",
       "      <th>source</th>\n",
       "      <th>year</th>\n",
       "      <th>month</th>\n",
       "      <th>day</th>\n",
       "      <th>sentiment</th>\n",
       "      <th>topic</th>\n",
       "    </tr>\n",
       "  </thead>\n",
       "  <tbody>\n",
       "  </tbody>\n",
       "</table>\n",
       "</div>"
      ],
      "text/plain": [
       "Empty DataFrame\n",
       "Columns: [review, rating, bank, title, source, year, month, day, sentiment, topic]\n",
       "Index: []"
      ]
     },
     "execution_count": 15,
     "metadata": {},
     "output_type": "execute_result"
    }
   ],
   "source": [
    "k[(k[\"year\"]==2024)& (k[\"month\"]==4)&(k[\"day\"]==14)&(k[\"bank\"]==\"GXS\")]"
   ]
  },
  {
   "cell_type": "code",
   "execution_count": null,
   "metadata": {},
   "outputs": [],
   "source": [
    "print(\".............RUNNING TOPIC MODEL..............\")\n",
    "topics = topic_model.get_topic(k[\"review\"].to_list())\n",
    "k[\"topic\"] = topics[\"Predicted Topic\"]"
   ]
  },
  {
   "cell_type": "code",
   "execution_count": null,
   "metadata": {},
   "outputs": [],
   "source": [
    "print(\".............RUNNING EXPLAINER MODEL..............\")\n",
    "associations = [list(map(lambda x:list(dict.fromkeys(x))[:3], explainer.get_keywords(k.iloc[i][\"review\"], k.iloc[i][\"sentiment\"]))) for i in range(k.shape[0])]\n",
    "k[\"associations\"] = associations"
   ]
  },
  {
   "cell_type": "code",
   "execution_count": 22,
   "metadata": {},
   "outputs": [],
   "source": [
    "j = pd.read_csv(\"stuff.csv\")"
   ]
  },
  {
   "cell_type": "code",
   "execution_count": 37,
   "metadata": {},
   "outputs": [],
   "source": [
    "import ast"
   ]
  },
  {
   "cell_type": "code",
   "execution_count": 42,
   "metadata": {},
   "outputs": [
    {
     "data": {
      "text/html": [
       "<div>\n",
       "<style scoped>\n",
       "    .dataframe tbody tr th:only-of-type {\n",
       "        vertical-align: middle;\n",
       "    }\n",
       "\n",
       "    .dataframe tbody tr th {\n",
       "        vertical-align: top;\n",
       "    }\n",
       "\n",
       "    .dataframe thead th {\n",
       "        text-align: right;\n",
       "    }\n",
       "</style>\n",
       "<table border=\"1\" class=\"dataframe\">\n",
       "  <thead>\n",
       "    <tr style=\"text-align: right;\">\n",
       "      <th></th>\n",
       "      <th>review</th>\n",
       "      <th>rating</th>\n",
       "      <th>bank</th>\n",
       "      <th>title</th>\n",
       "      <th>source</th>\n",
       "      <th>year</th>\n",
       "      <th>month</th>\n",
       "      <th>day</th>\n",
       "      <th>sentiment</th>\n",
       "      <th>topic</th>\n",
       "      <th>associations</th>\n",
       "    </tr>\n",
       "  </thead>\n",
       "  <tbody>\n",
       "    <tr>\n",
       "      <th>0</th>\n",
       "      <td>i like how the app is really light and fast co...</td>\n",
       "      <td>5</td>\n",
       "      <td>GXS</td>\n",
       "      <td>NaN</td>\n",
       "      <td>playstore</td>\n",
       "      <td>2024</td>\n",
       "      <td>4</td>\n",
       "      <td>15</td>\n",
       "      <td>Positive</td>\n",
       "      <td>speed</td>\n",
       "      <td>[like, apps, really]</td>\n",
       "    </tr>\n",
       "    <tr>\n",
       "      <th>1</th>\n",
       "      <td>cannot add card to google pay also cannot add ...</td>\n",
       "      <td>1</td>\n",
       "      <td>GXS</td>\n",
       "      <td>NaN</td>\n",
       "      <td>playstore</td>\n",
       "      <td>2024</td>\n",
       "      <td>4</td>\n",
       "      <td>13</td>\n",
       "      <td>Negative</td>\n",
       "      <td>functions</td>\n",
       "      <td>[add, google, go]</td>\n",
       "    </tr>\n",
       "    <tr>\n",
       "      <th>2</th>\n",
       "      <td>generally good however please add either nfc f...</td>\n",
       "      <td>4</td>\n",
       "      <td>GXS</td>\n",
       "      <td>NaN</td>\n",
       "      <td>playstore</td>\n",
       "      <td>2024</td>\n",
       "      <td>4</td>\n",
       "      <td>13</td>\n",
       "      <td>Neutral</td>\n",
       "      <td>functions</td>\n",
       "      <td>[unable, function, would]</td>\n",
       "    </tr>\n",
       "    <tr>\n",
       "      <th>3</th>\n",
       "      <td>with continuous failed to log in contacted cso...</td>\n",
       "      <td>1</td>\n",
       "      <td>GXS</td>\n",
       "      <td>NaN</td>\n",
       "      <td>playstore</td>\n",
       "      <td>2024</td>\n",
       "      <td>4</td>\n",
       "      <td>11</td>\n",
       "      <td>Negative</td>\n",
       "      <td>login</td>\n",
       "      <td>[failed, problem, terminate]</td>\n",
       "    </tr>\n",
       "    <tr>\n",
       "      <th>4</th>\n",
       "      <td>easy to use</td>\n",
       "      <td>5</td>\n",
       "      <td>DBS</td>\n",
       "      <td>NaN</td>\n",
       "      <td>playstore</td>\n",
       "      <td>2024</td>\n",
       "      <td>4</td>\n",
       "      <td>14</td>\n",
       "      <td>Positive</td>\n",
       "      <td>interface</td>\n",
       "      <td>[easy, use]</td>\n",
       "    </tr>\n",
       "    <tr>\n",
       "      <th>...</th>\n",
       "      <td>...</td>\n",
       "      <td>...</td>\n",
       "      <td>...</td>\n",
       "      <td>...</td>\n",
       "      <td>...</td>\n",
       "      <td>...</td>\n",
       "      <td>...</td>\n",
       "      <td>...</td>\n",
       "      <td>...</td>\n",
       "      <td>...</td>\n",
       "      <td>...</td>\n",
       "    </tr>\n",
       "    <tr>\n",
       "      <th>147</th>\n",
       "      <td>tried reinstall restart re adding but to no av...</td>\n",
       "      <td>1</td>\n",
       "      <td>Trust</td>\n",
       "      <td>unable to add credit card to apple wallet</td>\n",
       "      <td>appstore</td>\n",
       "      <td>2024</td>\n",
       "      <td>3</td>\n",
       "      <td>25</td>\n",
       "      <td>Neutral</td>\n",
       "      <td>update</td>\n",
       "      <td>[tried, restart, install]</td>\n",
       "    </tr>\n",
       "    <tr>\n",
       "      <th>148</th>\n",
       "      <td>great</td>\n",
       "      <td>3</td>\n",
       "      <td>Trust</td>\n",
       "      <td>great</td>\n",
       "      <td>appstore</td>\n",
       "      <td>2024</td>\n",
       "      <td>3</td>\n",
       "      <td>7</td>\n",
       "      <td>Positive</td>\n",
       "      <td>update</td>\n",
       "      <td>[great]</td>\n",
       "    </tr>\n",
       "    <tr>\n",
       "      <th>149</th>\n",
       "      <td>thank you</td>\n",
       "      <td>5</td>\n",
       "      <td>Trust</td>\n",
       "      <td>convenient happy with tye service</td>\n",
       "      <td>appstore</td>\n",
       "      <td>2024</td>\n",
       "      <td>4</td>\n",
       "      <td>7</td>\n",
       "      <td>Positive</td>\n",
       "      <td>update</td>\n",
       "      <td>[thank]</td>\n",
       "    </tr>\n",
       "    <tr>\n",
       "      <th>150</th>\n",
       "      <td>i bought packs of toilet rolls pack of eggs pl...</td>\n",
       "      <td>5</td>\n",
       "      <td>Trust</td>\n",
       "      <td>just in time</td>\n",
       "      <td>appstore</td>\n",
       "      <td>2024</td>\n",
       "      <td>3</td>\n",
       "      <td>29</td>\n",
       "      <td>Neutral</td>\n",
       "      <td>functions</td>\n",
       "      <td>[pack, coins, bought]</td>\n",
       "    </tr>\n",
       "    <tr>\n",
       "      <th>151</th>\n",
       "      <td>ive tried to make payments via qr codes many t...</td>\n",
       "      <td>1</td>\n",
       "      <td>Trust</td>\n",
       "      <td>paynow via qr code is not working</td>\n",
       "      <td>appstore</td>\n",
       "      <td>2024</td>\n",
       "      <td>3</td>\n",
       "      <td>7</td>\n",
       "      <td>Negative</td>\n",
       "      <td>security</td>\n",
       "      <td>[failed, fix, please]</td>\n",
       "    </tr>\n",
       "  </tbody>\n",
       "</table>\n",
       "<p>152 rows × 11 columns</p>\n",
       "</div>"
      ],
      "text/plain": [
       "                                                review  rating   bank  \\\n",
       "0    i like how the app is really light and fast co...       5    GXS   \n",
       "1    cannot add card to google pay also cannot add ...       1    GXS   \n",
       "2    generally good however please add either nfc f...       4    GXS   \n",
       "3    with continuous failed to log in contacted cso...       1    GXS   \n",
       "4                                         easy to use        5    DBS   \n",
       "..                                                 ...     ...    ...   \n",
       "147  tried reinstall restart re adding but to no av...       1  Trust   \n",
       "148                                              great       3  Trust   \n",
       "149                                          thank you       5  Trust   \n",
       "150  i bought packs of toilet rolls pack of eggs pl...       5  Trust   \n",
       "151  ive tried to make payments via qr codes many t...       1  Trust   \n",
       "\n",
       "                                         title     source  year  month  day  \\\n",
       "0                                          NaN  playstore  2024      4   15   \n",
       "1                                          NaN  playstore  2024      4   13   \n",
       "2                                          NaN  playstore  2024      4   13   \n",
       "3                                          NaN  playstore  2024      4   11   \n",
       "4                                          NaN  playstore  2024      4   14   \n",
       "..                                         ...        ...   ...    ...  ...   \n",
       "147  unable to add credit card to apple wallet   appstore  2024      3   25   \n",
       "148                                      great   appstore  2024      3    7   \n",
       "149          convenient happy with tye service   appstore  2024      4    7   \n",
       "150                              just in time    appstore  2024      3   29   \n",
       "151          paynow via qr code is not working   appstore  2024      3    7   \n",
       "\n",
       "    sentiment      topic                  associations  \n",
       "0    Positive      speed          [like, apps, really]  \n",
       "1    Negative  functions             [add, google, go]  \n",
       "2     Neutral  functions     [unable, function, would]  \n",
       "3    Negative      login  [failed, problem, terminate]  \n",
       "4    Positive  interface                   [easy, use]  \n",
       "..        ...        ...                           ...  \n",
       "147   Neutral     update     [tried, restart, install]  \n",
       "148  Positive     update                       [great]  \n",
       "149  Positive     update                       [thank]  \n",
       "150   Neutral  functions         [pack, coins, bought]  \n",
       "151  Negative   security         [failed, fix, please]  \n",
       "\n",
       "[152 rows x 11 columns]"
      ]
     },
     "execution_count": 42,
     "metadata": {},
     "output_type": "execute_result"
    }
   ],
   "source": [
    "j"
   ]
  },
  {
   "cell_type": "code",
   "execution_count": 49,
   "metadata": {},
   "outputs": [
    {
     "data": {
      "text/html": [
       "<div>\n",
       "<style scoped>\n",
       "    .dataframe tbody tr th:only-of-type {\n",
       "        vertical-align: middle;\n",
       "    }\n",
       "\n",
       "    .dataframe tbody tr th {\n",
       "        vertical-align: top;\n",
       "    }\n",
       "\n",
       "    .dataframe thead th {\n",
       "        text-align: right;\n",
       "    }\n",
       "</style>\n",
       "<table border=\"1\" class=\"dataframe\">\n",
       "  <thead>\n",
       "    <tr style=\"text-align: right;\">\n",
       "      <th></th>\n",
       "      <th>review</th>\n",
       "      <th>rating</th>\n",
       "      <th>bank</th>\n",
       "      <th>title</th>\n",
       "      <th>source</th>\n",
       "      <th>year</th>\n",
       "      <th>month</th>\n",
       "      <th>day</th>\n",
       "      <th>sentiment</th>\n",
       "      <th>topic</th>\n",
       "      <th>associations</th>\n",
       "    </tr>\n",
       "  </thead>\n",
       "  <tbody>\n",
       "    <tr>\n",
       "      <th>0</th>\n",
       "      <td>i like how the app is really light and fast co...</td>\n",
       "      <td>5</td>\n",
       "      <td>GXS</td>\n",
       "      <td>NaN</td>\n",
       "      <td>playstore</td>\n",
       "      <td>2024</td>\n",
       "      <td>4</td>\n",
       "      <td>15</td>\n",
       "      <td>Positive</td>\n",
       "      <td>speed</td>\n",
       "      <td>[like, apps, really]</td>\n",
       "    </tr>\n",
       "  </tbody>\n",
       "</table>\n",
       "</div>"
      ],
      "text/plain": [
       "                                              review  rating bank title  \\\n",
       "0  i like how the app is really light and fast co...       5  GXS   NaN   \n",
       "\n",
       "      source  year  month  day sentiment  topic          associations  \n",
       "0  playstore  2024      4   15  Positive  speed  [like, apps, really]  "
      ]
     },
     "execution_count": 49,
     "metadata": {},
     "output_type": "execute_result"
    }
   ],
   "source": [
    "new[new[\"day\"]>14]"
   ]
  },
  {
   "cell_type": "code",
   "execution_count": 34,
   "metadata": {},
   "outputs": [],
   "source": [
    "data_manager = DataManager(\"waddlewafflesbackend\", \"UJVkE6GCHQrokIhM\")"
   ]
  },
  {
   "cell_type": "code",
   "execution_count": 51,
   "metadata": {},
   "outputs": [],
   "source": [
    "\n",
    "data_manager.update_miscellaneous(\"playstore\", \"datetime\", {\"$set\": {\"latestdate\": \"2024-04-15 23:50:00\"}})\n",
    "data_manager.update_miscellaneous(\"appstore\", \"datetime\", {\"$set\": {\"latestdate\": \"2024-04-15 23:50:00\"}})"
   ]
  },
  {
   "cell_type": "code",
   "execution_count": 32,
   "metadata": {},
   "outputs": [
    {
     "data": {
      "text/plain": [
       "Timestamp('2024-04-10 23:42:07')"
      ]
     },
     "execution_count": 32,
     "metadata": {},
     "output_type": "execute_result"
    }
   ],
   "source": []
  }
 ],
 "metadata": {
  "kernelspec": {
   "display_name": "Python 3",
   "language": "python",
   "name": "python3"
  },
  "language_info": {
   "codemirror_mode": {
    "name": "ipython",
    "version": 3
   },
   "file_extension": ".py",
   "mimetype": "text/x-python",
   "name": "python",
   "nbconvert_exporter": "python",
   "pygments_lexer": "ipython3",
   "version": "3.12.2"
  }
 },
 "nbformat": 4,
 "nbformat_minor": 2
}
